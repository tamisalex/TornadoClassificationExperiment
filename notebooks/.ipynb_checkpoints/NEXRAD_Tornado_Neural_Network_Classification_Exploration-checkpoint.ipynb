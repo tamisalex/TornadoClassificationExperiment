{
 "cells": [
  {
   "cell_type": "markdown",
   "metadata": {},
   "source": [
    "## Executive Summary"
   ]
  },
  {
   "cell_type": "markdown",
   "metadata": {},
   "source": [
    "The end goal of this project was to identity tornadoes in NEXRAD data provided by the National Oceanic and Atmospheric Administration and host on Amazon AWS. I have encounter several issues that are beyond my knowledge regarding to technical weather knowledge, and architecture and computing power with regard to artificial neural networks.\n",
    "\n",
    "Thus, currently this project is more of a documentation of my approach, what I have learned, the technologies envovled, and then what needs to be done to reach my ultimate goal of classify tornadoes with some accuracy."
   ]
  },
  {
   "cell_type": "markdown",
   "metadata": {},
   "source": [
    "## About the Data"
   ]
  },
  {
   "cell_type": "markdown",
   "metadata": {},
   "source": [
    "### NEXRAD"
   ]
  },
  {
   "cell_type": "markdown",
   "metadata": {},
   "source": [
    "Next Generation Weather Radar (NEXRAD) also known as Weather Surveillance Radar 1988 Doppler ( WSR-88D ), is a series of 160 radar sites spread across the United States, its terroritories, and two in South Korea. A real time feed and historical archive starting from June 1991 to present is available on Amazon AWS."
   ]
  },
  {
   "cell_type": "markdown",
   "metadata": {},
   "source": [
    "###  - Accessing the data"
   ]
  },
  {
   "cell_type": "markdown",
   "metadata": {},
   "source": [
    "Radar files are hosted on Amazon Simple Storage Service (S3) and individual files can be accessed by\n",
    "\n",
    "/{Year}/{Month}/{Day}/{NEXRAD Station}/{filename}\n",
    "\n",
    "More specific time information is in the filename in the format:\n",
    "\n",
    "GGGGYYYYMMDD_TTTTTT\n",
    "\n",
    "Where: \n",
    "\n",
    "GGGG = Ground station ID (map of ground stations)\n",
    "YYYY = year\n",
    "MM = month\n",
    "DD = day\n",
    "TTTTTT = time when data started to be collected (GMT)\n",
    "\n",
    "followed by: \n",
    "\n",
    "\"_V06.gz\" if the file is 2012 and newer\n",
    "\"_V03.gz\" if 2011 or older"
   ]
  },
  {
   "cell_type": "markdown",
   "metadata": {},
   "source": [
    "### - Problems"
   ]
  },
  {
   "cell_type": "markdown",
   "metadata": {},
   "source": [
    "* A radar volume can range from 1 MB to 15 MB.\n",
    "* Many many many files\n",
    "* Where are the tornadoes?"
   ]
  },
  {
   "cell_type": "markdown",
   "metadata": {},
   "source": [
    "### Storm Events Database"
   ]
  },
  {
   "cell_type": "markdown",
   "metadata": {},
   "source": [
    "NOAA National Centers for Environmental Information hosts the Storm Events Database.\n",
    "\n",
    "It contains information on weather events where:\n",
    "\n",
    "* storms or other weather phenomena cause loss of life, injury, property damange, and/or disruption to commerce\n",
    "* rare or unusual events, such as snow flurries in South Florida or the San Diego coastal area\n",
    "* records - min/max temperature for a given time period, or rainfall associated with a storm\n",
    "\n",
    "This data can be accessed here: [Storm Events Database](https://www.ncdc.noaa.gov/stormevents/ftp.jsp)\n",
    "\n",
    "The data can be retrieved using ftp or http. Documentation for file name convention and data format can also be found in the link above.\n",
    "\n",
    "The data is segmented into yearly intervals.\n",
    "\n",
    "Useful features of this data are:\n",
    "\n",
    "* Event Type -- we are looking for tornado events\n",
    "* The closest NEXRAD station code, example \"KBHM\"\n",
    "* The time of the event"
   ]
  },
  {
   "cell_type": "markdown",
   "metadata": {},
   "source": [
    "## Joining Our Data Sources"
   ]
  },
  {
   "cell_type": "markdown",
   "metadata": {},
   "source": [
    "Using the Storm Events Database in conjunction with NEXRAD S3, we can get radar volumes containing tornadoes.\n",
    "Preliminaryly, I limited data to weather events that occured in Alabama in the year 2015."
   ]
  },
  {
   "cell_type": "markdown",
   "metadata": {},
   "source": [
    "Using the storm events database, we can select with radar volumes we will download from the NEXRAD S3 bucket.\n",
    "\n",
    "* Event times from Storm Events database are in local time, while radar volume used UTC (GMT). So we need to convert time zones for to select the correct radar data.\n",
    "\n",
    "* We also need to clean some radar station codes. KHUN was changed to KHTX.\n",
    "\n",
    "* We also need to calculate what is the closest volume time is to tornado event time.\n",
    "\n",
    "* We need to remove KTAE, which does track storms in parts of Alabama, but the station is in Florida.\n",
    "\n",
    "After these steps, we can download the radar volumes we need to classify tornadoes."
   ]
  },
  {
   "cell_type": "markdown",
   "metadata": {},
   "source": [
    "## Analyze Our Radar Data"
   ]
  },
  {
   "cell_type": "markdown",
   "metadata": {},
   "source": [
    "### NEXRAD Radar 101"
   ]
  },
  {
   "cell_type": "markdown",
   "metadata": {},
   "source": [
    "Before we analyze our radar data we need to some background knowlege of how the radar works and what data it collects.\n",
    "\n",
    "NEXRAD Radar produces radar volumes at four, five, six, or ten minute intervals.\n",
    "\n",
    "Each radar volume is composed of sweeps. A sweep is a 360 rotation at a given elevation. A sweep is made up of rays, a sliver of the 360 degree sweep. And a ray is made of gates, or radial pixels, each gate between two distances.\n",
    "\n",
    "NEXRAD operates in two modes, clean air mode, and precipitation mode.\n",
    "\n",
    "Clean air mode is the most sensitive mode and each sweep is conducted at a slower rotation.  Thus producing a volume every ten minutes. Elevation of the sweeps is kept low to detect incoming storms at greater distances.\n",
    "\n",
    "Precipitation mode is not as sensitive because rain returns more signals. Rotation speed for each sweep is faster, and elevation is increase to detect moisture higher in the atmosphere."
   ]
  },
  {
   "cell_type": "markdown",
   "metadata": {},
   "source": [
    "<img src=\"../report_assets/vcp31.gif\">"
   ]
  },
  {
   "cell_type": "markdown",
   "metadata": {},
   "source": [
    "Above is VCP 31. It is a clean air mode vcp performing 5 sweeps every 10 minutes."
   ]
  },
  {
   "cell_type": "markdown",
   "metadata": {},
   "source": [
    "<img src=\"../report_assets/vcp11.gif\">"
   ]
  },
  {
   "cell_type": "markdown",
   "metadata": {},
   "source": [
    "Above is VCP 11. It has 14 elevations slices and completes 16 360° scans in 5 minutes, up to 19.5°,\n",
    "\n",
    "For more information on VCPs visit http://www.srh.noaa.gov/jetstream/doppler/vcp_max.html"
   ]
  },
  {
   "cell_type": "markdown",
   "metadata": {},
   "source": [
    "### Radar Fields"
   ]
  },
  {
   "cell_type": "markdown",
   "metadata": {},
   "source": [
    "The data from NEXRAD S3 comes zipped in gz files and then inside them are NEXRAD format radar files. In order to read them easily and then display the radar data, we will use Department of Energy's Atmospheric Radiation Measurement (ARM) Program's [Python ARM Radar Toolkit](https://github.com/ARM-DOE/pyart)"
   ]
  },
  {
   "cell_type": "markdown",
   "metadata": {},
   "source": [
    "<img src=\"../report_assets/radarRaw.png\">"
   ]
  },
  {
   "cell_type": "markdown",
   "metadata": {},
   "source": [
    "The above images are of a storm that generated a tornado. It was picked up on radar by KHTX ground station (Huntsville, Alabama). Radar volume file is read and plotted using Python-ARM Radar Toolkit (pyart)\n",
    "\n",
    "The range of each NEXRAD radar is 300 km or 120 nm. The radar is in the center of each image."
   ]
  },
  {
   "cell_type": "markdown",
   "metadata": {},
   "source": [
    "After joining our data from the Storm Events Database and NEXRAD S3, we get radar volumes. Each file contains on volume. Each sweep of the volume has 6 fields. This data is known to NOAA as Level II data. Data derived from this data is known as Level III.\n",
    "\n",
    "Here are descriptions of each field:\n",
    "\n",
    "* reflectivity (dbZ) - detects density of precipitation - heavy rainfall in red, light in green\n",
    "* Zdr (db) - or differential reflectivity is the difference in returned energy between the horizontal and vertical pulses of the radar. used to help detect water drop shape, and hail\n",
    "* Phi_DP (deg) - differential phase propagation - measures differences in travel time of radio waves through water/air. used to detect masses of water\n",
    "* Rho_HV - Correlation Coefficient (Rho HV), A statistical correlation between the reflected horizontal and vertical power returns. It is a good indicator of regions where there is a mixture of precipitation types, such as rain and snow.\n",
    "* velocity (m/s) - velocity of wind, away or toward the radar\n",
    "* spectrum width - a measure of variability mean radial velocity (wind shear, turbulence, and quality of velocity measurements. High values indicate chaotic flow, low values indicates smooth flow. Rapidly changing values can indicate a tornado, or strong wind gusts"
   ]
  },
  {
   "cell_type": "markdown",
   "metadata": {},
   "source": [
    "### Cleaning Our Radar Data"
   ]
  },
  {
   "cell_type": "markdown",
   "metadata": {},
   "source": [
    "In the above radar plots we can see a storm, that we would typically see on the weather channel. However we also see a large circular cloud around the radar.\n",
    "\n",
    "This \"cloud\" is not actually a storm, but bioscatter (bugs, birds, bats, etc) and ground clutter. Before we run any type of model, we need to remove this \"cloud'"
   ]
  },
  {
   "cell_type": "markdown",
   "metadata": {},
   "source": [
    "To do this, we will use Colorado State University's [CSU_RadarTools](https://github.com/CSU-Radarmet/CSU_RadarTools) python package. It contains a hodge podge of radar algorithms, but most importantly to remove the bioscatter/groundclutter and then clean our data of specks (despeckle)"
   ]
  },
  {
   "cell_type": "markdown",
   "metadata": {},
   "source": [
    "## What do we do now?"
   ]
  },
  {
   "cell_type": "markdown",
   "metadata": {},
   "source": [
    "Before delving into the this project, I was aiming to develop a simple linear regression classifier to determine if there was a tornado or not. Normally this would be easy in other problems. Just get a bunch of features describing an event with a label. However this will not work with our radar data in raw format. I would have to extract certain metrics from my matrix of radar values, and I do not have the technical knowledge to do so."
   ]
  },
  {
   "cell_type": "markdown",
   "metadata": {},
   "source": [
    "### Mesocyclone Detection Algorithm"
   ]
  },
  {
   "cell_type": "markdown",
   "metadata": {},
   "source": [
    "Published in 1996, [A Neural Network for Tornado Prediction Based on Doppler Radar-Derived Attributes](http://journals.ametsoc.org/doi/abs/10.1175/1520-0450%281996%29035%3C0617%3AANNFTP%3E2.0.CO%3B2) describes National Severe Storms Labratory's Mesocyclone Detection Algorithm (Mesocyclone's are precursors of tornadoes). It extracts 23 variables characterizing the circulations form radar fields and feeds them into a neural network.\n",
    "\n",
    "The neural network had a 23 node input layer and one hidden network of two nodes\n",
    "\n",
    "The results from that paper was Critical Success Index of 34.3% "
   ]
  },
  {
   "cell_type": "markdown",
   "metadata": {},
   "source": [
    "### Tornado Detection Algorithm"
   ]
  },
  {
   "cell_type": "markdown",
   "metadata": {},
   "source": [
    "Published in 1998, [The National Severe Storms Laboratory Tornado Detection Algorithm](http://journals.ametsoc.org/doi/abs/10.1175/1520-0434%281998%29013%3C0352%3ATNSSLT%3E2.0.CO%3B2) uses a different method to detect tornadoes. It identifies vortices through multiple elevations for the storm. It is noted that the TDA algorithm performs better on Great Plains tornadoes than non-plains tornadoes. Illustration below"
   ]
  },
  {
   "cell_type": "markdown",
   "metadata": {},
   "source": [
    "<img src=\"../report_assets/tdaDiagram.png\" width=\"800px\" height=\"600px\">"
   ]
  },
  {
   "cell_type": "markdown",
   "metadata": {},
   "source": [
    "## New Goal"
   ]
  },
  {
   "cell_type": "markdown",
   "metadata": {},
   "source": [
    "I am not a meteorologist, I am a data science student. So while my science may not be sound purpose of this project is to learn, and then maybe discover some cool trend in the data. Therefore I can pick something arbitrary and approach it from that angle.\n",
    "\n",
    "I do not know much about neural networks and data operations on large scale data. So I will attempt to use PySpark, Amazon EC2, to run build a large neural network to classify the raw radar data as containing tornadoes or not."
   ]
  },
  {
   "cell_type": "code",
   "execution_count": null,
   "metadata": {
    "collapsed": true
   },
   "outputs": [],
   "source": []
  }
 ],
 "metadata": {
  "anaconda-cloud": {},
  "kernelspec": {
   "display_name": "Python [Root]",
   "language": "python",
   "name": "Python [Root]"
  },
  "language_info": {
   "codemirror_mode": {
    "name": "ipython",
    "version": 2
   },
   "file_extension": ".py",
   "mimetype": "text/x-python",
   "name": "python",
   "nbconvert_exporter": "python",
   "pygments_lexer": "ipython2",
   "version": "2.7.12"
  }
 },
 "nbformat": 4,
 "nbformat_minor": 0
}
