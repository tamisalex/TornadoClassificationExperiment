{
 "cells": [
  {
   "cell_type": "code",
   "execution_count": 3,
   "metadata": {
    "collapsed": false
   },
   "outputs": [
    {
     "name": "stdout",
     "output_type": "stream",
     "text": [
      "1.7.0.dev+f4b2779\n"
     ]
    }
   ],
   "source": [
    "import sqlalchemy\n",
    "import pandas as pd\n",
    "import matplotlib.pyplot as plt\n",
    "import matplotlib\n",
    "import numpy as np\n",
    "import numpy.ma as ma\n",
    "import pyart\n",
    "import time\n",
    "import math\n",
    "import singledop\n",
    "from copy import deepcopy\n",
    "\n",
    "from csu_radartools import (csu_misc, csu_kdp)\n",
    "\n",
    "import gzip\n",
    "%matplotlib inline\n",
    "\n",
    "print pyart.__version__"
   ]
  },
  {
   "cell_type": "code",
   "execution_count": 5,
   "metadata": {
    "collapsed": false
   },
   "outputs": [
    {
     "data": {
      "text/html": [
       "<div>\n",
       "<table border=\"1\" class=\"dataframe\">\n",
       "  <thead>\n",
       "    <tr style=\"text-align: right;\">\n",
       "      <th></th>\n",
       "      <th>Filename</th>\n",
       "      <th>IsTornado</th>\n",
       "      <th>Episode_ID</th>\n",
       "      <th>Event_ID</th>\n",
       "      <th>TornadoTime</th>\n",
       "      <th>VolumeTime</th>\n",
       "      <th>OriginalTime</th>\n",
       "    </tr>\n",
       "  </thead>\n",
       "  <tbody>\n",
       "    <tr>\n",
       "      <th>19</th>\n",
       "      <td>KHTX20150420_054230_V06.gz</td>\n",
       "      <td>1</td>\n",
       "      <td>93462</td>\n",
       "      <td>569838</td>\n",
       "      <td>05:45:00</td>\n",
       "      <td>05:42:30</td>\n",
       "      <td>00:45:00</td>\n",
       "    </tr>\n",
       "    <tr>\n",
       "      <th>25</th>\n",
       "      <td>KBMX20150419_123417_V06.gz</td>\n",
       "      <td>1</td>\n",
       "      <td>95580</td>\n",
       "      <td>574226</td>\n",
       "      <td>12:38:00</td>\n",
       "      <td>12:34:17</td>\n",
       "      <td>07:38:00</td>\n",
       "    </tr>\n",
       "    <tr>\n",
       "      <th>82</th>\n",
       "      <td>KHTX20150714_223427_V06.gz</td>\n",
       "      <td>1</td>\n",
       "      <td>96381</td>\n",
       "      <td>593977</td>\n",
       "      <td>22:35:00</td>\n",
       "      <td>22:34:27</td>\n",
       "      <td>17:35:00</td>\n",
       "    </tr>\n",
       "    <tr>\n",
       "      <th>186</th>\n",
       "      <td>KHTX20150714_221310_V06.gz</td>\n",
       "      <td>1</td>\n",
       "      <td>96381</td>\n",
       "      <td>593967</td>\n",
       "      <td>22:14:00</td>\n",
       "      <td>22:13:10</td>\n",
       "      <td>17:14:00</td>\n",
       "    </tr>\n",
       "    <tr>\n",
       "      <th>195</th>\n",
       "      <td>KHTX20150714_224515_V06.gz</td>\n",
       "      <td>1</td>\n",
       "      <td>96381</td>\n",
       "      <td>593971</td>\n",
       "      <td>22:48:00</td>\n",
       "      <td>22:45:15</td>\n",
       "      <td>17:48:00</td>\n",
       "    </tr>\n",
       "  </tbody>\n",
       "</table>\n",
       "</div>"
      ],
      "text/plain": [
       "                       Filename  IsTornado  Episode_ID  Event_ID TornadoTime  \\\n",
       "19   KHTX20150420_054230_V06.gz          1       93462    569838    05:45:00   \n",
       "25   KBMX20150419_123417_V06.gz          1       95580    574226    12:38:00   \n",
       "82   KHTX20150714_223427_V06.gz          1       96381    593977    22:35:00   \n",
       "186  KHTX20150714_221310_V06.gz          1       96381    593967    22:14:00   \n",
       "195  KHTX20150714_224515_V06.gz          1       96381    593971    22:48:00   \n",
       "\n",
       "    VolumeTime OriginalTime  \n",
       "19    05:42:30     00:45:00  \n",
       "25    12:34:17     07:38:00  \n",
       "82    22:34:27     17:35:00  \n",
       "186   22:13:10     17:14:00  \n",
       "195   22:45:15     17:48:00  "
      ]
     },
     "execution_count": 5,
     "metadata": {},
     "output_type": "execute_result"
    }
   ],
   "source": [
    "engine = sqlalchemy.create_engine('postgresql://alexandertam@localhost/postgres')\n",
    "weather = pd.read_sql('SELECT * FROM weather',con = engine)\n",
    "#weather = weather[weather[\"IsTornado\"] == 1]\n",
    "weather.drop_duplicates([\"Filename\",\"TornadoTime\"])\n",
    "weather = weather[weather[\"IsTornado\"] == 1]\n",
    "weather.reset_index()\n",
    "del weather[\"index\"]\n",
    "weather.head()"
   ]
  },
  {
   "cell_type": "code",
   "execution_count": 6,
   "metadata": {
    "collapsed": true
   },
   "outputs": [],
   "source": [
    "def extract_unmasked_data(radar, field, bad=-32768):\n",
    "    \"\"\"Simplify getting unmasked radar fields from Py-ART\"\"\"\n",
    "    return radar.fields[field]['data'].filled(fill_value=bad)"
   ]
  },
  {
   "cell_type": "code",
   "execution_count": 7,
   "metadata": {
    "collapsed": true
   },
   "outputs": [],
   "source": [
    "def add_field_to_radar_object(field, radar, field_name='FH', units='unitless', \n",
    "                              long_name='Hydrometeor ID', standard_name='Hydrometeor ID',\n",
    "                              dz_field='ZC'):\n",
    "    \"\"\"\n",
    "    Adds a newly created field to the Py-ART radar object. If reflectivity is a masked array,\n",
    "    make the new field masked the same as reflectivity.\n",
    "    \"\"\"\n",
    "    fill_value = -32768\n",
    "    masked_field = np.ma.asanyarray(field)\n",
    "    masked_field.mask = masked_field == fill_value\n",
    "    if hasattr(radar.fields[dz_field]['data'], 'mask'):\n",
    "        setattr(masked_field, 'mask', \n",
    "                np.logical_or(masked_field.mask, radar.fields[dz_field]['data'].mask))\n",
    "        fill_value = radar.fields[dz_field]['_FillValue']\n",
    "    field_dict = {'data': masked_field,\n",
    "                  'units': units,\n",
    "                  'long_name': long_name,\n",
    "                  'standard_name': standard_name,\n",
    "                  '_FillValue': fill_value}\n",
    "    radar.add_field(field_name, field_dict, replace_existing=True)\n",
    "    return radar"
   ]
  },
  {
   "cell_type": "code",
   "execution_count": 8,
   "metadata": {
    "collapsed": true
   },
   "outputs": [],
   "source": [
    "def two_panel_plot(radar, sweep=0, var1='reflectivity', vmin1=0, vmax1=65,\n",
    "                   cmap1='pyart_NWSRef', units1='dBZ', gatefilter1 = None, var2='differential_reflectivity',\n",
    "                   vmin2=-5, vmax2=5, cmap2='pyart_NWSRef', units2='dB', gatefilter2 = None, return_flag=False,\n",
    "                   xlim=[-150,150], ylim=[-150,150]):\n",
    "    display = pyart.graph.RadarDisplay(radar)\n",
    "    fig = plt.figure(figsize=(13,5))\n",
    "    ax1 = fig.add_subplot(121)\n",
    "    display.plot_ppi(var1, sweep=sweep, vmin=vmin1, vmax=vmax1, cmap=cmap1, \n",
    "                     colorbar_label=units1, mask_outside=True, gatefilter=gatefilter1)\n",
    "    display.set_limits(xlim=xlim, ylim=ylim)\n",
    "    ax2 = fig.add_subplot(122)\n",
    "    display.plot_ppi(var2, sweep=sweep, vmin=vmin2, vmax=vmax2, cmap=cmap2, \n",
    "                     colorbar_label=units2, mask_outside=True, gatefilter=gatefilter2)\n",
    "    display.set_limits(xlim=xlim, ylim=ylim)\n",
    "    \n",
    "    if return_flag:\n",
    "        return fig, ax1, ax2, display"
   ]
  },
  {
   "cell_type": "code",
   "execution_count": 9,
   "metadata": {
    "collapsed": true
   },
   "outputs": [],
   "source": [
    "def cleaned_radar_image(filename, radar, sweep=0, var1='reflectivity', vmin1=0, vmax1=65,\n",
    "                   cmap1='pyart_NWSRef', units1='dBZ', gatefilter1 = None,  return_flag=False,\n",
    "                   xlim=[-150,150], ylim=[-150,150]):\n",
    "    display = pyart.graph.RadarDisplay(radar)\n",
    "    fig = plt.figure(figsize=(13,5))\n",
    "    ax1 = fig.add_subplot(121)\n",
    "    display.plot_ppi(var1, sweep=sweep, vmin=vmin1, vmax=vmax1, cmap=cmap1, \n",
    "                     colorbar_label=units1, mask_outside=True, gatefilter=gatefilter1,colorbar_flag=True,title_flag=True)\n",
    "    display.set_limits(xlim=xlim, ylim=ylim)\n",
    "    display.plot_colorbar = None\n",
    "    \n",
    "    #ax1.axis('off')\n",
    "    \n",
    "    filename = filename.split('.')[0] + \"_\"+var1+\"_sweep_\" + str(sweep)\n",
    "    print filename\n",
    "    \n",
    "    plt.savefig('../images/'+filename,bbox_inches='tight')\n",
    "    plt.show()\n",
    "    #plt.close(fig)\n",
    "    \n",
    "    if return_flag:\n",
    "        return fig, ax1, ax2, display"
   ]
  },
  {
   "cell_type": "code",
   "execution_count": 23,
   "metadata": {
    "collapsed": true
   },
   "outputs": [],
   "source": [
    "def cleaned_radar_map_image(filename, radar, sweep=0, var='reflectivity', vmin=0, vmax=65,\n",
    "                    cmap='pyart_NWSRef', units='dBZ', minLat = None, minLong = None, maxLat = None, maxLong = None,\n",
    "                    tornadoLat = None, tornadoLong = None):\n",
    "    display = pyart.graph.RadarMapDisplay(radar)\n",
    "\n",
    "    display.plot_ppi_map(var, sweep, vmin=vmin, vmax=vmax,\n",
    "                         min_lon=minLong, max_lon=maxLong, min_lat=minLat, max_lat=maxLat,\n",
    "                         lon_lines=np.arange(-158, -154, .2), projection='lcc',\n",
    "                         lat_lines=np.arange(69, 72, .1), resolution='h',\n",
    "                         lat_0=radar.latitude['data'][0],\n",
    "                         lon_0=radar.longitude['data'][0])\n",
    "\n",
    "    # plot range rings at 10, 20, 30 and 40km\n",
    "    display.plot_range_ring(50., line_style='k-')\n",
    "    display.plot_range_ring(100., line_style='k--')\n",
    "    display.plot_range_ring(200., line_style='k-')\n",
    "    display.plot_range_ring(300., line_style='k--')\n",
    "\n",
    "#     # plots cross hairs\n",
    "#     display.plot_line_xy(np.array([-40000.0, 40000.0]), np.array([0.0, 0.0]),\n",
    "#                          line_style='k-')\n",
    "#     display.plot_line_xy(np.array([0.0, 0.0]), np.array([-20000.0, 200000.0]),\n",
    "#                          line_style='k-')\n",
    "\n",
    "    # Indicate the radar location with a point\n",
    "    try:\n",
    "        display.plot_point(tornadoLong, tornadoLat)\n",
    "    except:\n",
    "        print \"Could not plot display tornado point.\"\n",
    "        \n",
    "    filename = filename.split('.')[0] + \"_\"+var+\"_sweep_final\" + str(sweep)\n",
    "    print filename\n",
    "    \n",
    "    plt.savefig('../images/'+filename,bbox_inches='tight')\n",
    "\n",
    "    plt.show()"
   ]
  },
  {
   "cell_type": "code",
   "execution_count": 24,
   "metadata": {
    "collapsed": true
   },
   "outputs": [],
   "source": [
    "class BoundingBox(object):\n",
    "    def __init__(self, *args, **kwargs):\n",
    "        self.min_lat = None\n",
    "        self.min_lon = None\n",
    "        self.max_lat = None\n",
    "        self.max_lon = None"
   ]
  },
  {
   "cell_type": "code",
   "execution_count": 25,
   "metadata": {
    "collapsed": true
   },
   "outputs": [],
   "source": [
    "def get_bounding_box(latitude_in_degrees, longitude_in_degrees, half_side_in_miles):\n",
    "    assert half_side_in_miles > 0\n",
    "    assert latitude_in_degrees >= -90.0 and latitude_in_degrees  <= 90.0\n",
    "    assert longitude_in_degrees >= -180.0 and longitude_in_degrees <= 180.0\n",
    "\n",
    "    half_side_in_km = half_side_in_miles * 1.609344\n",
    "    lat = math.radians(latitude_in_degrees)\n",
    "    lon = math.radians(longitude_in_degrees)\n",
    "\n",
    "    radius  = 6371\n",
    "    # Radius of the parallel at given latitude\n",
    "    parallel_radius = radius*math.cos(lat)\n",
    "\n",
    "    lat_min = lat - half_side_in_km/radius\n",
    "    lat_max = lat + half_side_in_km/radius\n",
    "    lon_min = lon - half_side_in_km/parallel_radius\n",
    "    lon_max = lon + half_side_in_km/parallel_radius\n",
    "    rad2deg = math.degrees\n",
    "\n",
    "    box = BoundingBox()\n",
    "    box.min_lat = rad2deg(lat_min)\n",
    "    box.min_lon = rad2deg(lon_min)\n",
    "    box.max_lat = rad2deg(lat_max)\n",
    "    box.max_lon = rad2deg(lon_max)\n",
    "\n",
    "    return (box)"
   ]
  },
  {
   "cell_type": "code",
   "execution_count": 26,
   "metadata": {
    "collapsed": true
   },
   "outputs": [],
   "source": [
    "data = weather.copy(deep=True)"
   ]
  },
  {
   "cell_type": "code",
   "execution_count": 32,
   "metadata": {
    "collapsed": false,
    "scrolled": false
   },
   "outputs": [
    {
     "name": "stdout",
     "output_type": "stream",
     "text": [
      "Percent Complete:  3.45\n",
      "Reading KHTX20150420_054230_V06.gz ...\n",
      "Cleaning ...\n",
      "Time:  8.236595\n",
      "Saving ...\n",
      "KHTX20150420_054230_V06_velocity_sweep_final1\n"
     ]
    },
    {
     "data": {
      "image/png": "[encoded data removed]",
      "text/plain": [
       "<matplotlib.figure.Figure at 0x11cb19e90>"
      ]
     },
     "metadata": {},
     "output_type": "display_data"
    },
    {
     "name": "stdout",
     "output_type": "stream",
     "text": [
      "Time:  41.545374\n",
      "-----------------------------\n"
     ]
    }
   ],
   "source": [
    "lenOfData = len(data)-1\n",
    "for i in range(lenOfData):\n",
    "#for i in range(392,lenOfWeather):\n",
    "\n",
    "    print \"Percent Complete: \", round((i+1)/float(lenOfData)*100,2)\n",
    "    print \"Reading \"+ data.iloc[i,0] + \" ...\"\n",
    "    try:\n",
    "        radar = pyart.io.read_nexrad_archive(\"../assets/\"+ data.iloc[i,0])\n",
    "    except:\n",
    "        pass\n",
    "    print \"Cleaning ...\"\n",
    "    start = time.clock()\n",
    "    \n",
    "#     dzN = radar.get_field(0,\"reflectivity\")\n",
    "#     drN = radar.get_field(0,\"differential_reflectivity\")\n",
    "#     dpN = radar.get_field(0,\"differential_phase\")\n",
    "#     dvN = radar.get_field(1,\"velocity\")\n",
    "    \n",
    "    \n",
    "    dzN = extract_unmasked_data(radar, 'reflectivity')\n",
    "    drN = extract_unmasked_data(radar, 'differential_reflectivity')\n",
    "    dpN = extract_unmasked_data(radar, 'differential_phase')\n",
    "    #dvN = extract_unmasked_data(radar, 'velocity')\n",
    "    \n",
    "    rng2d, az2d = np.meshgrid(radar.range['data'], radar.azimuth['data'])\n",
    "    \n",
    "    kdN, fdN, sdN = csu_kdp.calc_kdp_bringi(\n",
    "    dp=dpN, dz=dzN, rng=rng2d/1000.0, thsd=12, gs=250.0, window=5)\n",
    "    \n",
    "    #generate insect mask from reflectivity and differential reflectivity\n",
    "    insect_mask = csu_misc.insect_filter(dzN, drN)\n",
    "    sdp_mask = csu_misc.differential_phase_filter(sdN, thresh_sdp=13)\n",
    "    \n",
    "    #apply mask to respective fields\n",
    "    bad = -32768\n",
    "    dz_insect = 1.0 * dzN\n",
    "    dz_insect[insect_mask] = bad\n",
    "    dz_sdp = 1.0 * dzN\n",
    "    dz_sdp[sdp_mask] = bad\n",
    "    \n",
    "    #join masks\n",
    "    new_mask = np.logical_or(insect_mask, sdp_mask)\n",
    "    \n",
    "    #copy reflectivity and apply joined mask\n",
    "    dz_qc = 1.0 * dzN\n",
    "    dz_qc[new_mask] = bad\n",
    "    \n",
    "    #despeckle then add new field to radar object\n",
    "    mask_ds = csu_misc.despeckle(dz_qc, ngates=15)\n",
    "    dz_qc[mask_ds] = bad\n",
    "    radar = add_field_to_radar_object(dz_qc, radar, field_name='DZ_qc', units='dBZ', \n",
    "                                  long_name='Reflectivity (Combo Filtered)',\n",
    "                                  standard_name='Reflectivity (Combo Filtered)', \n",
    "                                  dz_field='reflectivity')\n",
    "    \n",
    "    reflect_mask = radar.fields[\"DZ_qc\"][\"data\"].mask[0:720]\n",
    "    radar.fields[\"velocity\"][\"data\"][720:1440].mask = reflect_mask\n",
    "    #radar.fields[\"velocity\"][\"data\"][720:1440]\n",
    "    \n",
    "    \n",
    "    #dz_mask = getattr(radar.fields['DZ_qc']['data'], 'mask')\n",
    "    #dv_mask = getattr(radar.fields['velocity']['data'], 'mask')\n",
    "    #combined_mask = np.logical_or(dz_mask, dv_mask)\n",
    "    \n",
    "    #ve = deepcopy(radar.fields['velocity']['data'])\n",
    "    #radar.add_field_like('velocity', 'DV_qc', ve, replace_existing=True)\n",
    "    #setattr(radar.fields['DV_qc']['data'], 'mask', combined_mask)\n",
    "\n",
    "#     dv_qc = 1.0 * dvN\n",
    "#     dv_qc[new_mask] = \n",
    "#     mask_ds = csu_misc.despeckle(dv_qc, ngates=15)\n",
    "#     dv_qc[mask_ds] = bad\n",
    "\n",
    "\n",
    "#    radar.get_field(0,\"reflectivity\")\n",
    "\n",
    "#     radar = add_field_to_radar_object(dv_qc, radar, field_name='DV_qc', units='m/s', \n",
    "#                                    long_name='Velocity (Combo Filtered)',\n",
    "#                                    standard_name='Velocity (Combo Filtered)', \n",
    "#                                    dz_field='velocity')\n",
    "    end = time.clock()\n",
    "    print \"Time: \", end - start\n",
    "    print \"Saving ...\"\n",
    "    start = time.clock()\n",
    "#     cleaned_radar_image(event.Filename,radar, sweep=1, var1='velocity', vmin1=-80, vmax1=80, \n",
    "#                cmap1='bwr', units1='m/s',\n",
    "#                xlim=[-300,300], ylim=[-300,300])\n",
    "    \n",
    "    sqlStatement = \"SELECT latitude,longitude FROM locations WHERE episode_id =\" + str(data.iloc[i,2]) + \" AND event_id = \" + str(data.iloc[i,3])\n",
    "    \n",
    "    tornadoLoc = pd.read_sql(sqlStatement,con = engine)\n",
    "        \n",
    "    \n",
    "    box = get_bounding_box(tornadoLoc.latitude[0], tornadoLoc.longitude[0], 120)\n",
    "    \n",
    "#     print box.min_lat\n",
    "#     print box.min_lon\n",
    "#     print box.max_lat\n",
    "#     print box.max_lon\n",
    "#     print \"---------\"    \n",
    "#     print tornadoLoc.latitude[0]\n",
    "#     print tornadoLoc.longitude[0]\n",
    "    \n",
    "    cleaned_radar_map_image(data.iloc[i,0], radar, sweep=1, var='velocity', vmin=-80, vmax=80,\n",
    "                cmap='bwr', units='m/s', minLat = box.min_lat, minLong = box.min_lon, maxLat = box.max_lat, maxLong = box.max_lon,\n",
    "                tornadoLat = tornadoLoc.latitude[0], tornadoLong = tornadoLoc.longitude[0])\n",
    "\n",
    "#     print \"Debug: \"\n",
    "#     print i+1\n",
    "#     print len(vel_maxs)\n",
    "    \n",
    "#     if(len(vel_maxs) != i + 1):\n",
    "#         print \"HEY SOMETHING WHENT WRONG\"\n",
    "\n",
    "    end = time.clock()\n",
    "    print \"Time: \", end - start\n",
    "    #print \"Progress: \", round(float(i+1)/(lenOfWeather) * 100,2)\n",
    "    print \"-----------------------------\"\n",
    "    \n",
    "    if(i == 0):\n",
    "        break"
   ]
  },
  {
   "cell_type": "code",
   "execution_count": 33,
   "metadata": {
    "collapsed": false
   },
   "outputs": [
    {
     "name": "stdout",
     "output_type": "stream",
     "text": [
      "0 total observations (M)\n"
     ]
    },
    {
     "ename": "error",
     "evalue": "(shape(a,0)==shape(b,0)) failed for 2nd argument b",
     "output_type": "error",
     "traceback": [
      "\u001b[0;31m---------------------------------------------------------------------------\u001b[0m",
      "\u001b[0;31merror\u001b[0m                                     Traceback (most recent call last)",
      "\u001b[0;32m<ipython-input-33-30b9b6c9c47e>\u001b[0m in \u001b[0;36m<module>\u001b[0;34m()\u001b[0m\n\u001b[1;32m      2\u001b[0m                                     \u001b[0msweep_number\u001b[0m\u001b[0;34m=\u001b[0m\u001b[0;36m1\u001b[0m\u001b[0;34m,\u001b[0m \u001b[0mname_vr\u001b[0m\u001b[0;34m=\u001b[0m\u001b[0;34m'velocity'\u001b[0m\u001b[0;34m,\u001b[0m\u001b[0;34m\u001b[0m\u001b[0m\n\u001b[1;32m      3\u001b[0m                                     \u001b[0mthin_factor\u001b[0m\u001b[0;34m=\u001b[0m\u001b[0;34m[\u001b[0m\u001b[0;36m4\u001b[0m\u001b[0;34m,\u001b[0m \u001b[0;36m12\u001b[0m\u001b[0;34m]\u001b[0m\u001b[0;34m,\u001b[0m \u001b[0mfilter_data\u001b[0m\u001b[0;34m=\u001b[0m\u001b[0mTrue\u001b[0m\u001b[0;34m,\u001b[0m\u001b[0;34m\u001b[0m\u001b[0m\n\u001b[0;32m----> 4\u001b[0;31m                                     filter_distance=5)\n\u001b[0m",
      "\u001b[0;32m/Users/alexandertam/anaconda/lib/python2.7/site-packages/SingleDop-0.9-py2.7.egg/singledop/singledop.pyc\u001b[0m in \u001b[0;36m__init__\u001b[0;34m(self, radar, sweep_number, grid_spacing, grid_edge, sigma, sigma_obs, L, U, V, Ub, Vb, name_vr, noise, az_spacing, use_vad, verbose, range_spacing, range_limits, azimuth_limits, max_range, xgrid, ygrid, thin_factor, filter_data, filter_distance)\u001b[0m\n\u001b[1;32m    290\u001b[0m             \u001b[0mself\u001b[0m\u001b[0;34m.\u001b[0m\u001b[0mget_analysis_background_field\u001b[0m\u001b[0;34m(\u001b[0m\u001b[0;36m0.0\u001b[0m\u001b[0;34m,\u001b[0m \u001b[0;36m0.0\u001b[0m\u001b[0;34m)\u001b[0m\u001b[0;34m\u001b[0m\u001b[0m\n\u001b[1;32m    291\u001b[0m         \u001b[0;31m# Actual retrieval done here\u001b[0m\u001b[0;34m\u001b[0m\u001b[0;34m\u001b[0m\u001b[0m\n\u001b[0;32m--> 292\u001b[0;31m         \u001b[0mself\u001b[0m\u001b[0;34m.\u001b[0m\u001b[0mcompute_single_doppler_retrieval\u001b[0m\u001b[0;34m(\u001b[0m\u001b[0;34m)\u001b[0m\u001b[0;34m\u001b[0m\u001b[0m\n\u001b[0m\u001b[1;32m    293\u001b[0m \u001b[0;34m\u001b[0m\u001b[0m\n\u001b[1;32m    294\u001b[0m     def populate_analysis_metadata(\n",
      "\u001b[0;32m/Users/alexandertam/anaconda/lib/python2.7/site-packages/SingleDop-0.9-py2.7.egg/singledop/singledop.pyc\u001b[0m in \u001b[0;36mcompute_single_doppler_retrieval\u001b[0;34m(self)\u001b[0m\n\u001b[1;32m    470\u001b[0m         \u001b[0mA\u001b[0m \u001b[0;34m=\u001b[0m \u001b[0mself\u001b[0m\u001b[0;34m.\u001b[0m\u001b[0mobs_Crr\u001b[0m \u001b[0;34m+\u001b[0m \u001b[0mself\u001b[0m\u001b[0;34m.\u001b[0m\u001b[0msigma_obs\u001b[0m\u001b[0;34m**\u001b[0m\u001b[0;36m2\u001b[0m \u001b[0;34m*\u001b[0m \u001b[0mnp\u001b[0m\u001b[0;34m.\u001b[0m\u001b[0meye\u001b[0m\u001b[0;34m(\u001b[0m\u001b[0mself\u001b[0m\u001b[0;34m.\u001b[0m\u001b[0mM\u001b[0m\u001b[0;34m)\u001b[0m\u001b[0;34m\u001b[0m\u001b[0m\n\u001b[1;32m    471\u001b[0m         \u001b[0mb\u001b[0m \u001b[0;34m=\u001b[0m \u001b[0mself\u001b[0m\u001b[0;34m.\u001b[0m\u001b[0mobs_vrf\u001b[0m \u001b[0;34m-\u001b[0m \u001b[0mself\u001b[0m\u001b[0;34m.\u001b[0m\u001b[0mobs_vrbf\u001b[0m  \u001b[0;31m# Observation innovation vector\u001b[0m\u001b[0;34m\u001b[0m\u001b[0m\n\u001b[0;32m--> 472\u001b[0;31m         \u001b[0mself\u001b[0m\u001b[0;34m.\u001b[0m\u001b[0mz_vector\u001b[0m \u001b[0;34m=\u001b[0m \u001b[0mscipy\u001b[0m\u001b[0;34m.\u001b[0m\u001b[0mlinalg\u001b[0m\u001b[0;34m.\u001b[0m\u001b[0msolve\u001b[0m\u001b[0;34m(\u001b[0m\u001b[0mA\u001b[0m\u001b[0;34m,\u001b[0m \u001b[0mb\u001b[0m\u001b[0;34m,\u001b[0m \u001b[0msym_pos\u001b[0m\u001b[0;34m=\u001b[0m\u001b[0mTrue\u001b[0m\u001b[0;34m)\u001b[0m\u001b[0;34m\u001b[0m\u001b[0m\n\u001b[0m\u001b[1;32m    473\u001b[0m         \u001b[0;31m# self.z_vector = np.linalg.solve(A, b)  # scipy appears to be faster\u001b[0m\u001b[0;34m\u001b[0m\u001b[0;34m\u001b[0m\u001b[0m\n\u001b[1;32m    474\u001b[0m         \u001b[0mdelta_vr\u001b[0m \u001b[0;34m=\u001b[0m \u001b[0;36m0.0\u001b[0m \u001b[0;34m*\u001b[0m \u001b[0mself\u001b[0m\u001b[0;34m.\u001b[0m\u001b[0manalysis_xf\u001b[0m\u001b[0;34m\u001b[0m\u001b[0m\n",
      "\u001b[0;32m/Users/alexandertam/anaconda/lib/python2.7/site-packages/scipy/linalg/basic.pyc\u001b[0m in \u001b[0;36msolve\u001b[0;34m(a, b, sym_pos, lower, overwrite_a, overwrite_b, debug, check_finite)\u001b[0m\n\u001b[1;32m     92\u001b[0m         c, x, info = posv(a1, b1, lower=lower,\n\u001b[1;32m     93\u001b[0m                           \u001b[0moverwrite_a\u001b[0m\u001b[0;34m=\u001b[0m\u001b[0moverwrite_a\u001b[0m\u001b[0;34m,\u001b[0m\u001b[0;34m\u001b[0m\u001b[0m\n\u001b[0;32m---> 94\u001b[0;31m                           overwrite_b=overwrite_b)\n\u001b[0m\u001b[1;32m     95\u001b[0m     \u001b[0;32melse\u001b[0m\u001b[0;34m:\u001b[0m\u001b[0;34m\u001b[0m\u001b[0m\n\u001b[1;32m     96\u001b[0m         \u001b[0mgesv\u001b[0m\u001b[0;34m,\u001b[0m \u001b[0;34m=\u001b[0m \u001b[0mget_lapack_funcs\u001b[0m\u001b[0;34m(\u001b[0m\u001b[0;34m(\u001b[0m\u001b[0;34m'gesv'\u001b[0m\u001b[0;34m,\u001b[0m\u001b[0;34m)\u001b[0m\u001b[0;34m,\u001b[0m \u001b[0;34m(\u001b[0m\u001b[0ma1\u001b[0m\u001b[0;34m,\u001b[0m \u001b[0mb1\u001b[0m\u001b[0;34m)\u001b[0m\u001b[0;34m)\u001b[0m\u001b[0;34m\u001b[0m\u001b[0m\n",
      "\u001b[0;31merror\u001b[0m: (shape(a,0)==shape(b,0)) failed for 2nd argument b"
     ]
    }
   ],
   "source": [
    "sd_test = singledop.SingleDoppler2D(L=30.0, radar=radar, range_limits=[0, 100],\n",
    "                                    sweep_number=1, name_vr='velocity',\n",
    "                                    thin_factor=[4, 12], filter_data=True,\n",
    "                                    filter_distance=5)"
   ]
  },
  {
   "cell_type": "code",
   "execution_count": null,
   "metadata": {
    "collapsed": false
   },
   "outputs": [],
   "source": [
    "display = singledop.AnalysisDisplay(sd_test)\n",
    "display.four_panel_plot(scale=400, legend=20, return_flag=False, thin=6,\n",
    "                        levels=-30.0+2.0*np.arange(31), name_vr='velocity', name_dz='DZ_qc')"
   ]
  },
  {
   "cell_type": "code",
   "execution_count": null,
   "metadata": {
    "collapsed": true
   },
   "outputs": [],
   "source": []
  }
 ],
 "metadata": {
  "kernelspec": {
   "display_name": "Python [Root]",
   "language": "python",
   "name": "Python [Root]"
  },
  "language_info": {
   "codemirror_mode": {
    "name": "ipython",
    "version": 2
   },
   "file_extension": ".py",
   "mimetype": "text/x-python",
   "name": "python",
   "nbconvert_exporter": "python",
   "pygments_lexer": "ipython2",
   "version": "2.7.12"
  }
 },
 "nbformat": 4,
 "nbformat_minor": 0
}
